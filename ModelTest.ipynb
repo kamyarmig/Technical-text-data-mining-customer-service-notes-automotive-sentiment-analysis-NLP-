{
 "cells": [
  {
   "cell_type": "markdown",
   "metadata": {},
   "source": [
    "# Model Testing"
   ]
  },
  {
   "cell_type": "code",
   "execution_count": 2,
   "metadata": {},
   "outputs": [],
   "source": [
    "import re\n",
    "import pandas as pd\n",
    "import numpy as np"
   ]
  },
  {
   "cell_type": "markdown",
   "metadata": {},
   "source": [
    "## Data Import"
   ]
  },
  {
   "cell_type": "code",
   "execution_count": 13,
   "metadata": {},
   "outputs": [
    {
     "name": "stderr",
     "output_type": "stream",
     "text": [
      "/home/tony/Desktop/SDCard/anaconda3/lib/python3.6/site-packages/IPython/core/interactiveshell.py:2785: DtypeWarning: Columns (25,43,46) have mixed types. Specify dtype option on import or set low_memory=False.\n",
      "  interactivity=interactivity, compiler=compiler, result=result)\n",
      "/home/tony/Desktop/SDCard/anaconda3/lib/python3.6/site-packages/ipykernel_launcher.py:3: VisibleDeprecationWarning: Reading unicode strings without specifying the encoding argument is deprecated. Set the encoding, use None for the system default.\n",
      "  This is separate from the ipykernel package so we can avoid doing imports until\n"
     ]
    },
    {
     "data": {
      "text/plain": [
       "array([['COMPLETE FOOT PEDAL WIRING', '1'],\n",
       "       ['inspection, dielectric. leak at digger(fitting in cab) ,remove extension shaft from winch,emg. stop not working at controls, boom cuts out(wait or play with outriggers works)',\n",
       "        '3,'],\n",
       "       ['ANNUAL PM, DIELECTRIC AND DOT INSPECTION', '2,3,'],\n",
       "       ...,\n",
       "       ['PERFORM UCR', '18'],\n",
       "       ['UCR', '18'],\n",
       "       ['ON RENT TO IB ABLE - UCR (BREAK IN DAMAGES)', '18']],\n",
       "      dtype=object)"
      ]
     },
     "execution_count": 13,
     "metadata": {},
     "output_type": "execute_result"
    }
   ],
   "source": [
    "file2=pd.read_csv('Data3.csv', encoding='ISO-8859-1', error_bad_lines=False)\n",
    "pairs=np.column_stack((file2.loc[:2998, [\"SR Summary\"]][\"SR Summary\"], file2.loc[:2998, [\"Group Issue\"]][\"Group Issue\"]))\n",
    "features_used = np.genfromtxt('features.csv', delimiter=\",\", dtype=None).astype(np.dtype(str))\n",
    "pairs"
   ]
  },
  {
   "cell_type": "code",
   "execution_count": 14,
   "metadata": {},
   "outputs": [
    {
     "data": {
      "text/plain": [
       "'inspection dielectric leak at digger fitting in cab remove extension shaft from winch emg stop not working at controls boom cuts out wait or play with outriggers works'"
      ]
     },
     "execution_count": 14,
     "metadata": {},
     "output_type": "execute_result"
    }
   ],
   "source": [
    "pairs[:,0]=[re.sub(r\"  +\",\" \",re.sub(r\"(?![\\w\\s]).\", \" \",line).lower()).strip() for line in pairs[:,0]]\n",
    "triples = np.column_stack((pairs, [re.sub(r\"  +\",\" \",re.sub(r\"( (and|or|not) )((and|or|not) )*\",\" \",line)).strip() for line in pairs[:,0]]))\n",
    "triples[1,0]"
   ]
  },
  {
   "cell_type": "code",
   "execution_count": 15,
   "metadata": {},
   "outputs": [],
   "source": [
    "triples['2' == triples[:,1],1] = '23'\n",
    "triples['3' == triples[:,1],1] = '23'\n",
    "triples['2,3' == triples[:,1],1] = '23'"
   ]
  },
  {
   "cell_type": "code",
   "execution_count": 16,
   "metadata": {},
   "outputs": [
    {
     "data": {
      "text/plain": [
       "array([['complete foot pedal wiring', '1', 'complete foot pedal wiring'],\n",
       "       ['service request', '5', 'service request'],\n",
       "       ['service request', '5', 'service request'],\n",
       "       ...,\n",
       "       ['perform ucr', '18', 'perform ucr'],\n",
       "       ['ucr', '18', 'ucr'],\n",
       "       ['on rent to ib able ucr break in damages', '18',\n",
       "        'on rent to ib able ucr break in damages']], dtype='<U234')"
      ]
     },
     "execution_count": 16,
     "metadata": {},
     "output_type": "execute_result"
    }
   ],
   "source": [
    "def containsComma(array):\n",
    "    x = []\n",
    "    i = 0\n",
    "    for row in array:\n",
    "        if type(row[1]) == str and not \",\" in row[1]: \n",
    "            x += [row]\n",
    "        i +=1\n",
    "    return x\n",
    "\n",
    "data=containsComma(triples.tolist())\n",
    "data=np.array([np.array(row) for row in data])\n",
    "data"
   ]
  },
  {
   "cell_type": "code",
   "execution_count": 17,
   "metadata": {},
   "outputs": [
    {
     "data": {
      "text/plain": [
       "[0,\n",
       " 0,\n",
       " 0,\n",
       " 0,\n",
       " 0,\n",
       " 0,\n",
       " 0,\n",
       " 0,\n",
       " 0,\n",
       " 0,\n",
       " 0,\n",
       " 0,\n",
       " 0,\n",
       " 0,\n",
       " 0,\n",
       " 0,\n",
       " 0,\n",
       " 0,\n",
       " 0,\n",
       " 0,\n",
       " 0,\n",
       " 0,\n",
       " 0,\n",
       " 0,\n",
       " 0,\n",
       " 0,\n",
       " 0,\n",
       " 0,\n",
       " 0,\n",
       " 0,\n",
       " 0,\n",
       " 0,\n",
       " 0,\n",
       " 0,\n",
       " 0,\n",
       " 0,\n",
       " 0,\n",
       " 0,\n",
       " 0,\n",
       " 0,\n",
       " 0,\n",
       " 0,\n",
       " 0,\n",
       " 0,\n",
       " 0,\n",
       " 0,\n",
       " 0,\n",
       " 0,\n",
       " 0,\n",
       " 0,\n",
       " 0,\n",
       " 0,\n",
       " 0,\n",
       " 0,\n",
       " 0,\n",
       " 0,\n",
       " 0,\n",
       " 0,\n",
       " 0,\n",
       " 0,\n",
       " 0,\n",
       " 0,\n",
       " 0,\n",
       " 0,\n",
       " 0,\n",
       " 0,\n",
       " 0,\n",
       " 0,\n",
       " 0,\n",
       " 0,\n",
       " 0,\n",
       " 0,\n",
       " 0,\n",
       " 0,\n",
       " 0,\n",
       " 0,\n",
       " 0,\n",
       " 0,\n",
       " 0,\n",
       " 0,\n",
       " 0,\n",
       " 0,\n",
       " 0,\n",
       " 0,\n",
       " 0,\n",
       " 0,\n",
       " 0,\n",
       " 0,\n",
       " 0,\n",
       " 0,\n",
       " 0,\n",
       " 0,\n",
       " 1,\n",
       " 0,\n",
       " 0,\n",
       " 0,\n",
       " 0,\n",
       " 0,\n",
       " 0,\n",
       " 0,\n",
       " 0,\n",
       " 0,\n",
       " 0,\n",
       " 0,\n",
       " 0,\n",
       " 0,\n",
       " 0,\n",
       " 0,\n",
       " 0,\n",
       " 0,\n",
       " 0,\n",
       " 0,\n",
       " 0,\n",
       " 0,\n",
       " 0,\n",
       " 0,\n",
       " 0,\n",
       " 0,\n",
       " 0,\n",
       " 0]"
      ]
     },
     "execution_count": 17,
     "metadata": {},
     "output_type": "execute_result"
    }
   ],
   "source": [
    "binary=[]\n",
    "for index in range(0, len(data)):\n",
    "    binary += [[int(feature in data[index,0]) for feature in features_used[:-20]] + [int(feature in data[index,2]) for feature in features_used[-20:]]]\n",
    "    \n",
    "final_data = []\n",
    "for index in range(0, len(data)):\n",
    "    final_data += [[binary[index], data[index, 1]]]\n",
    "\n",
    "binary[0]"
   ]
  },
  {
   "cell_type": "markdown",
   "metadata": {},
   "source": [
    "## Stochastic Gradient Descent"
   ]
  },
  {
   "cell_type": "code",
   "execution_count": 18,
   "metadata": {},
   "outputs": [
    {
     "name": "stderr",
     "output_type": "stream",
     "text": [
      "/home/tony/Desktop/SDCard/anaconda3/lib/python3.6/site-packages/sklearn/linear_model/stochastic_gradient.py:128: FutureWarning: max_iter and tol parameters have been added in <class 'sklearn.linear_model.stochastic_gradient.SGDClassifier'> in 0.19. If both are left unset, they default to max_iter=5 and tol=None. If tol is not None, max_iter defaults to max_iter=1000. From 0.21, default max_iter will be 1000, and default tol will be 1e-3.\n",
      "  \"and default tol will be 1e-3.\" % type(self), FutureWarning)\n"
     ]
    },
    {
     "data": {
      "text/plain": [
       "0.7785234899328859"
      ]
     },
     "execution_count": 18,
     "metadata": {},
     "output_type": "execute_result"
    }
   ],
   "source": [
    "from sklearn.linear_model import SGDClassifier\n",
    "SGD = SGDClassifier(random_state=0).fit(binary[:int(0.9 * len(binary))], data[:int(0.9 * len(binary)),1])\n",
    "SGD.score(binary[int(0.9 * len(binary)):], data[int(0.9 * len(binary)):,1])"
   ]
  },
  {
   "cell_type": "markdown",
   "metadata": {},
   "source": [
    "## Support Vector Classifier"
   ]
  },
  {
   "cell_type": "code",
   "execution_count": 19,
   "metadata": {},
   "outputs": [
    {
     "data": {
      "text/plain": [
       "0.7885906040268457"
      ]
     },
     "execution_count": 19,
     "metadata": {},
     "output_type": "execute_result"
    }
   ],
   "source": [
    "from sklearn.svm import SVC\n",
    "SVM = SVC(random_state=0).fit(binary[:int(0.9 * len(binary))], data[:int(0.9 * len(binary)),1])\n",
    "SVM.score(binary[int(0.9 * len(binary)):], data[int(0.9 * len(binary)):,1])"
   ]
  },
  {
   "cell_type": "markdown",
   "metadata": {},
   "source": [
    "## Decision Tree Classifier"
   ]
  },
  {
   "cell_type": "code",
   "execution_count": 20,
   "metadata": {},
   "outputs": [
    {
     "data": {
      "text/plain": [
       "0.7651006711409396"
      ]
     },
     "execution_count": 20,
     "metadata": {},
     "output_type": "execute_result"
    }
   ],
   "source": [
    "from sklearn.tree import DecisionTreeClassifier\n",
    "DT = DecisionTreeClassifier(random_state=0).fit(binary[:int(0.9 * len(binary))], data[:int(0.9 * len(binary)),1])\n",
    "DT.score(binary[int(0.9 * len(binary)):], data[int(0.9 * len(binary)):,1])"
   ]
  },
  {
   "cell_type": "markdown",
   "metadata": {},
   "source": [
    "## Gradient Tree Boosting Classifier"
   ]
  },
  {
   "cell_type": "code",
   "execution_count": 21,
   "metadata": {},
   "outputs": [
    {
     "data": {
      "text/plain": [
       "0.8489932885906041"
      ]
     },
     "execution_count": 21,
     "metadata": {},
     "output_type": "execute_result"
    }
   ],
   "source": [
    "from sklearn.ensemble import GradientBoostingClassifier\n",
    "GBTC = GradientBoostingClassifier(random_state=0).fit(binary[:int(0.9 * len(binary))], data[:int(0.9 * len(binary)),1])\n",
    "GBTC.score(binary[int(0.9 * len(binary)):], data[int(0.9 * len(binary)):,1])"
   ]
  },
  {
   "cell_type": "markdown",
   "metadata": {},
   "source": [
    "## Random Forest Classifier"
   ]
  },
  {
   "cell_type": "code",
   "execution_count": 22,
   "metadata": {},
   "outputs": [
    {
     "data": {
      "text/plain": [
       "0.7718120805369127"
      ]
     },
     "execution_count": 22,
     "metadata": {},
     "output_type": "execute_result"
    }
   ],
   "source": [
    "from sklearn.ensemble import RandomForestClassifier\n",
    "RFC = RandomForestClassifier(random_state=0).fit(binary[:int(0.9 * len(binary))], data[:int(0.9 * len(binary)),1])\n",
    "RFC.score(binary[int(0.9 * len(binary)):], data[int(0.9 * len(binary)):,1])"
   ]
  },
  {
   "cell_type": "code",
   "execution_count": 65,
   "metadata": {},
   "outputs": [
    {
     "name": "stderr",
     "output_type": "stream",
     "text": [
      "/home/tony/Desktop/SDCard/anaconda3/lib/python3.6/site-packages/sklearn/linear_model/stochastic_gradient.py:128: FutureWarning: max_iter and tol parameters have been added in <class 'sklearn.linear_model.stochastic_gradient.SGDClassifier'> in 0.19. If both are left unset, they default to max_iter=5 and tol=None. If tol is not None, max_iter defaults to max_iter=1000. From 0.21, default max_iter will be 1000, and default tol will be 1e-3.\n",
      "  \"and default tol will be 1e-3.\" % type(self), FutureWarning)\n",
      "/home/tony/Desktop/SDCard/anaconda3/lib/python3.6/site-packages/sklearn/linear_model/stochastic_gradient.py:128: FutureWarning: max_iter and tol parameters have been added in <class 'sklearn.linear_model.stochastic_gradient.SGDClassifier'> in 0.19. If both are left unset, they default to max_iter=5 and tol=None. If tol is not None, max_iter defaults to max_iter=1000. From 0.21, default max_iter will be 1000, and default tol will be 1e-3.\n",
      "  \"and default tol will be 1e-3.\" % type(self), FutureWarning)\n",
      "/home/tony/Desktop/SDCard/anaconda3/lib/python3.6/site-packages/sklearn/linear_model/stochastic_gradient.py:128: FutureWarning: max_iter and tol parameters have been added in <class 'sklearn.linear_model.stochastic_gradient.SGDClassifier'> in 0.19. If both are left unset, they default to max_iter=5 and tol=None. If tol is not None, max_iter defaults to max_iter=1000. From 0.21, default max_iter will be 1000, and default tol will be 1e-3.\n",
      "  \"and default tol will be 1e-3.\" % type(self), FutureWarning)\n",
      "/home/tony/Desktop/SDCard/anaconda3/lib/python3.6/site-packages/sklearn/linear_model/stochastic_gradient.py:128: FutureWarning: max_iter and tol parameters have been added in <class 'sklearn.linear_model.stochastic_gradient.SGDClassifier'> in 0.19. If both are left unset, they default to max_iter=5 and tol=None. If tol is not None, max_iter defaults to max_iter=1000. From 0.21, default max_iter will be 1000, and default tol will be 1e-3.\n",
      "  \"and default tol will be 1e-3.\" % type(self), FutureWarning)\n",
      "/home/tony/Desktop/SDCard/anaconda3/lib/python3.6/site-packages/sklearn/linear_model/stochastic_gradient.py:128: FutureWarning: max_iter and tol parameters have been added in <class 'sklearn.linear_model.stochastic_gradient.SGDClassifier'> in 0.19. If both are left unset, they default to max_iter=5 and tol=None. If tol is not None, max_iter defaults to max_iter=1000. From 0.21, default max_iter will be 1000, and default tol will be 1e-3.\n",
      "  \"and default tol will be 1e-3.\" % type(self), FutureWarning)\n",
      "/home/tony/Desktop/SDCard/anaconda3/lib/python3.6/site-packages/sklearn/linear_model/stochastic_gradient.py:128: FutureWarning: max_iter and tol parameters have been added in <class 'sklearn.linear_model.stochastic_gradient.SGDClassifier'> in 0.19. If both are left unset, they default to max_iter=5 and tol=None. If tol is not None, max_iter defaults to max_iter=1000. From 0.21, default max_iter will be 1000, and default tol will be 1e-3.\n",
      "  \"and default tol will be 1e-3.\" % type(self), FutureWarning)\n"
     ]
    }
   ],
   "source": [
    "from sklearn.utils import shuffle\n",
    "\n",
    "X, y = shuffle(binary[:x_vals[x]],data[:x_vals[x],1],random_state=0)\n",
    "x_vals=list(range(498,3000,500))\n",
    "y_sgd=list(range(len(x_vals)))\n",
    "y_svm=list(range(len(x_vals)))\n",
    "y_dt=list(range(len(x_vals)))\n",
    "y_gtb=list(range(len(x_vals)))\n",
    "y_rfc=list(range(len(x_vals)))\n",
    "\n",
    "for x in range(len(x_vals)):\n",
    "    train_data_x=X[:int(0.9 * x_vals[x])]\n",
    "    train_data_y=y[:int(0.9 * x_vals[x])]\n",
    "    test_data_x=X[int(0.9 * x_vals[x]):x_vals[x]]\n",
    "    test_data_y=y[int(0.9 * x_vals[x]):x_vals[x]]\n",
    "    SGD=SGDClassifier(random_state=0).fit(train_data_x,train_data_y)\n",
    "    SVM = SVC(random_state=0).fit(train_data_x,train_data_y)\n",
    "    DT = DecisionTreeClassifier(random_state=0).fit(train_data_x,train_data_y)\n",
    "    GBTC = GradientBoostingClassifier(random_state=0).fit(train_data_x,train_data_y)\n",
    "    RFC = RandomForestClassifier(random_state=0).fit(train_data_x,train_data_y)\n",
    "    y_sgd[x]=SGD.score(test_data_x,test_data_y)\n",
    "    y_svm[x]=SVM.score(test_data_x,test_data_y)\n",
    "    y_dt[x]=DT.score(test_data_x,test_data_y)\n",
    "    y_gtb[x]=GBTC.score(test_data_x,test_data_y)\n",
    "    y_rfc[x]=RFC.score(test_data_x,test_data_y)"
   ]
  },
  {
   "cell_type": "code",
   "execution_count": 66,
   "metadata": {},
   "outputs": [
    {
     "data": {
      "image/png": "[encoded data removed]",
      "text/plain": [
       "<Figure size 432x288 with 1 Axes>"
      ]
     },
     "metadata": {},
     "output_type": "display_data"
    }
   ],
   "source": [
    "import matplotlib.pyplot as plt\n",
    "plt.plot(x_vals, y_sgd, label=\"Stochastic Graident Descent\")\n",
    "plt.plot(x_vals, y_svm, label=\"Support Vector Machine\")\n",
    "plt.plot(x_vals, y_dt, label=\"Decision Tree\")\n",
    "plt.plot(x_vals, y_gtb, label=\"Gradient Tree Boosting\")\n",
    "plt.plot(x_vals, y_rfc, label=\"Random Forest\")\n",
    "plt.title('Improvement of Accuracy over Different Size of Dataset')\n",
    "plt.xlabel('Size of Dataset')\n",
    "plt.ylabel('Prediction Accuracy')\n",
    "plt.legend()\n",
    "plt.show()"
   ]
  },
  {
   "cell_type": "code",
   "execution_count": 46,
   "metadata": {},
   "outputs": [
    {
     "data": {
      "text/plain": [
       "448"
      ]
     },
     "execution_count": 46,
     "metadata": {},
     "output_type": "execute_result"
    }
   ],
   "source": [
    "len(data[:int(0.9 * x_vals[0]),1])"
   ]
  },
  {
   "cell_type": "code",
   "execution_count": 56,
   "metadata": {},
   "outputs": [],
   "source": [
    "from sklearn.utils import shuffle\n",
    "\n",
    "X, y = shuffle(binary[:x_vals[x]],data[:x_vals[x],1],random_state=0)"
   ]
  },
  {
   "cell_type": "code",
   "execution_count": 60,
   "metadata": {},
   "outputs": [
    {
     "data": {
      "text/plain": [
       "array(['10', '8', '5', '1', '4', '18', '23', '13', '1', '1'],\n",
       "      dtype='<U234')"
      ]
     },
     "execution_count": 60,
     "metadata": {},
     "output_type": "execute_result"
    }
   ],
   "source": [
    "Shuffled_y[0:10]"
   ]
  },
  {
   "cell_type": "code",
   "execution_count": 62,
   "metadata": {},
   "outputs": [
    {
     "data": {
      "text/plain": [
       "2973"
      ]
     },
     "execution_count": 62,
     "metadata": {},
     "output_type": "execute_result"
    }
   ],
   "source": [
    "len(Shuffled_y)"
   ]
  },
  {
   "cell_type": "code",
   "execution_count": 63,
   "metadata": {},
   "outputs": [
    {
     "data": {
      "text/plain": [
       "array(['1', '5', '5', '7', '7', '5', '8', '5', '5', '5'], dtype='<U234')"
      ]
     },
     "execution_count": 63,
     "metadata": {},
     "output_type": "execute_result"
    }
   ],
   "source": [
    "data[0:10,1]"
   ]
  },
  {
   "cell_type": "code",
   "execution_count": null,
   "metadata": {},
   "outputs": [],
   "source": []
  }
 ],
 "metadata": {
  "kernelspec": {
   "display_name": "Python 3",
   "language": "python",
   "name": "python3"
  },
  "language_info": {
   "codemirror_mode": {
    "name": "ipython",
    "version": 3
   },
   "file_extension": ".py",
   "mimetype": "text/x-python",
   "name": "python",
   "nbconvert_exporter": "python",
   "pygments_lexer": "ipython3",
   "version": "3.6.5"
  }
 },
 "nbformat": 4,
 "nbformat_minor": 2
}
