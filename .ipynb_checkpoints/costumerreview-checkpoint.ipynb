{
 "cells": [
  {
   "cell_type": "code",
   "execution_count": 3,
   "metadata": {},
   "outputs": [],
   "source": [
    "import nltk\n",
    "import re\n",
    "import numpy as np\n",
    "import pandas as pd\n",
    "import matplotlib.pyplot as plt"
   ]
  },
  {
   "cell_type": "markdown",
   "metadata": {},
   "source": [
    "## Load the Data and Looking at the Header"
   ]
  },
  {
   "cell_type": "code",
   "execution_count": 5,
   "metadata": {},
   "outputs": [
    {
     "name": "stderr",
     "output_type": "stream",
     "text": [
      "C:\\Users\\ali\\Anaconda3\\lib\\site-packages\\IPython\\core\\interactiveshell.py:2728: DtypeWarning: Columns (25,42) have mixed types. Specify dtype option on import or set low_memory=False.\n",
      "  interactivity=interactivity, compiler=compiler, result=result)\n"
     ]
    },
    {
     "data": {
      "text/html": [
       "<div>\n",
       "<style scoped>\n",
       "    .dataframe tbody tr th:only-of-type {\n",
       "        vertical-align: middle;\n",
       "    }\n",
       "\n",
       "    .dataframe tbody tr th {\n",
       "        vertical-align: top;\n",
       "    }\n",
       "\n",
       "    .dataframe thead th {\n",
       "        text-align: right;\n",
       "    }\n",
       "</style>\n",
       "<table border=\"1\" class=\"dataframe\">\n",
       "  <thead>\n",
       "    <tr style=\"text-align: right;\">\n",
       "      <th></th>\n",
       "      <th>SR Number</th>\n",
       "      <th>Incident Date</th>\n",
       "      <th>Reported Date</th>\n",
       "      <th>SEVERITY</th>\n",
       "      <th>Last Modified</th>\n",
       "      <th>SR Type</th>\n",
       "      <th>SR Status</th>\n",
       "      <th>Plant Number</th>\n",
       "      <th>SR Group</th>\n",
       "      <th>SR Owner</th>\n",
       "      <th>...</th>\n",
       "      <th>SR Summary</th>\n",
       "      <th>Comments</th>\n",
       "      <th>Actual Labor Hours</th>\n",
       "      <th>VALID_ALTEC_UNIT_SERIAL</th>\n",
       "      <th>Unit Age at Incident Date</th>\n",
       "      <th>SR_NOTE_CALL_REASON</th>\n",
       "      <th>Days to Work Complete</th>\n",
       "      <th>SR_NOTE_CAUSE</th>\n",
       "      <th>SR_NOTE_CORRECTION</th>\n",
       "      <th>CUST_ACCOUNT_ID</th>\n",
       "    </tr>\n",
       "  </thead>\n",
       "  <tbody>\n",
       "    <tr>\n",
       "      <th>0</th>\n",
       "      <td>1690559</td>\n",
       "      <td>8/3/2011</td>\n",
       "      <td>8/3/2011</td>\n",
       "      <td>Partially Operable</td>\n",
       "      <td>9/28/2011</td>\n",
       "      <td>Plant Repair Order</td>\n",
       "      <td>Closed</td>\n",
       "      <td>333</td>\n",
       "      <td>0333 COLORADO SERVICE CENTER</td>\n",
       "      <td>0333 Martin, Annie</td>\n",
       "      <td>...</td>\n",
       "      <td>COMPLETE FOOT PEDAL WIRING</td>\n",
       "      <td>Entering charges from dealer for programming</td>\n",
       "      <td>28.37</td>\n",
       "      <td>0899BA1913</td>\n",
       "      <td>12.01</td>\n",
       "      <td>COMPLETE FOOT PEDAL WIRING</td>\n",
       "      <td>28</td>\n",
       "      <td>067-0001854 PER CUSTOMER REQUEST</td>\n",
       "      <td>1</td>\n",
       "      <td>183949</td>\n",
       "    </tr>\n",
       "    <tr>\n",
       "      <th>1</th>\n",
       "      <td>2108988</td>\n",
       "      <td>5/16/2014</td>\n",
       "      <td>5/16/2014</td>\n",
       "      <td>Partially Operable</td>\n",
       "      <td>7/15/2014</td>\n",
       "      <td>Plant Repair Order</td>\n",
       "      <td>Closed</td>\n",
       "      <td>2445</td>\n",
       "      <td>LTD SVC DISPATCHERS</td>\n",
       "      <td>2445 Ireland, Mark</td>\n",
       "      <td>...</td>\n",
       "      <td>inspection, dielectric. leak at digger(fitting...</td>\n",
       "      <td>-</td>\n",
       "      <td>39.83</td>\n",
       "      <td>1108DV3955</td>\n",
       "      <td>5.54</td>\n",
       "      <td>-- REPAIR REAR BUMPER ASSEMBLY\\n-- TOW EYES BE...</td>\n",
       "      <td>-</td>\n",
       "      <td>-</td>\n",
       "      <td>-- CUT OFF AND REPLACED DAMAGED AREA OF REAR B...</td>\n",
       "      <td>15941</td>\n",
       "    </tr>\n",
       "    <tr>\n",
       "      <th>2</th>\n",
       "      <td>1671881</td>\n",
       "      <td>5/12/2011</td>\n",
       "      <td>5/12/2011</td>\n",
       "      <td>Fully Operational</td>\n",
       "      <td>5/31/2011</td>\n",
       "      <td>Road Repair Order</td>\n",
       "      <td>Closed</td>\n",
       "      <td>111</td>\n",
       "      <td>SMW2 PLANNER GROUP</td>\n",
       "      <td>Faulks, Bodie A</td>\n",
       "      <td>...</td>\n",
       "      <td>ANNUAL PM, DIELECTRIC AND DOT INSPECTION</td>\n",
       "      <td>-</td>\n",
       "      <td>5.00</td>\n",
       "      <td>0307DV2684</td>\n",
       "      <td>4.20</td>\n",
       "      <td>DOT INSPECTION DIELECTRIC TEST PM INSPECTION</td>\n",
       "      <td>5</td>\n",
       "      <td>ANNUAL DUE</td>\n",
       "      <td>--CSNS HAVENT BEEN DONE\\nDO DOT INSPECTION.\\nD...</td>\n",
       "      <td>15204</td>\n",
       "    </tr>\n",
       "    <tr>\n",
       "      <th>3</th>\n",
       "      <td>1645303</td>\n",
       "      <td>1/28/2011</td>\n",
       "      <td>1/28/2011</td>\n",
       "      <td>Partially Operable</td>\n",
       "      <td>3/29/2011</td>\n",
       "      <td>Plant Repair Order</td>\n",
       "      <td>Closed</td>\n",
       "      <td>2443</td>\n",
       "      <td>LTD SVC DISPATCHERS</td>\n",
       "      <td>2443 Kerr, Brian J</td>\n",
       "      <td>...</td>\n",
       "      <td>SERVICE REQUEST</td>\n",
       "      <td>-</td>\n",
       "      <td>18.25</td>\n",
       "      <td>0908DV3833</td>\n",
       "      <td>2.41</td>\n",
       "      <td>- GLOBAL RENTAL RETURN</td>\n",
       "      <td>-</td>\n",
       "      <td>- JR 672</td>\n",
       "      <td>- 672\\n   8-Feb-11\\n\\n   DM47TR\\n   160-118386...</td>\n",
       "      <td>15941</td>\n",
       "    </tr>\n",
       "    <tr>\n",
       "      <th>4</th>\n",
       "      <td>1679223</td>\n",
       "      <td>6/14/2011</td>\n",
       "      <td>6/14/2011</td>\n",
       "      <td>Partially Operable</td>\n",
       "      <td>6/17/2011</td>\n",
       "      <td>Plant Repair Order</td>\n",
       "      <td>Closed</td>\n",
       "      <td>2442</td>\n",
       "      <td>LTD SVC DISPATCHERS</td>\n",
       "      <td>2442 Elias, Kerry</td>\n",
       "      <td>...</td>\n",
       "      <td>SERVICE REQUEST</td>\n",
       "      <td>-</td>\n",
       "      <td>2.00</td>\n",
       "      <td>1096BE1775</td>\n",
       "      <td>14.71</td>\n",
       "      <td>- RH PLATFORM OUT OF ADJUSTMENT\\n - HYDRAULIC ...</td>\n",
       "      <td>2</td>\n",
       "      <td>- UNKNOWN\\n</td>\n",
       "      <td>- ADJUST RH &amp; LH PLATFORMS\\n - REMOVE AND REPL...</td>\n",
       "      <td>27292</td>\n",
       "    </tr>\n",
       "  </tbody>\n",
       "</table>\n",
       "<p>5 rows × 43 columns</p>\n",
       "</div>"
      ],
      "text/plain": [
       "   SR Number Incident Date Reported Date            SEVERITY Last Modified  \\\n",
       "0    1690559      8/3/2011      8/3/2011  Partially Operable     9/28/2011   \n",
       "1    2108988     5/16/2014     5/16/2014  Partially Operable     7/15/2014   \n",
       "2    1671881     5/12/2011     5/12/2011   Fully Operational     5/31/2011   \n",
       "3    1645303     1/28/2011     1/28/2011  Partially Operable     3/29/2011   \n",
       "4    1679223     6/14/2011     6/14/2011  Partially Operable     6/17/2011   \n",
       "\n",
       "              SR Type SR Status  Plant Number                      SR Group  \\\n",
       "0  Plant Repair Order    Closed           333  0333 COLORADO SERVICE CENTER   \n",
       "1  Plant Repair Order    Closed          2445           LTD SVC DISPATCHERS   \n",
       "2   Road Repair Order    Closed           111            SMW2 PLANNER GROUP   \n",
       "3  Plant Repair Order    Closed          2443           LTD SVC DISPATCHERS   \n",
       "4  Plant Repair Order    Closed          2442           LTD SVC DISPATCHERS   \n",
       "\n",
       "             SR Owner       ...        \\\n",
       "0  0333 Martin, Annie       ...         \n",
       "1  2445 Ireland, Mark       ...         \n",
       "2     Faulks, Bodie A       ...         \n",
       "3  2443 Kerr, Brian J       ...         \n",
       "4   2442 Elias, Kerry       ...         \n",
       "\n",
       "                                          SR Summary  \\\n",
       "0                         COMPLETE FOOT PEDAL WIRING   \n",
       "1  inspection, dielectric. leak at digger(fitting...   \n",
       "2           ANNUAL PM, DIELECTRIC AND DOT INSPECTION   \n",
       "3                                    SERVICE REQUEST   \n",
       "4                                    SERVICE REQUEST   \n",
       "\n",
       "                                       Comments Actual Labor Hours  \\\n",
       "0  Entering charges from dealer for programming              28.37   \n",
       "1                                             -              39.83   \n",
       "2                                             -               5.00   \n",
       "3                                             -              18.25   \n",
       "4                                             -               2.00   \n",
       "\n",
       "  VALID_ALTEC_UNIT_SERIAL Unit Age at Incident Date  \\\n",
       "0              0899BA1913                     12.01   \n",
       "1              1108DV3955                      5.54   \n",
       "2              0307DV2684                      4.20   \n",
       "3              0908DV3833                      2.41   \n",
       "4              1096BE1775                     14.71   \n",
       "\n",
       "                                 SR_NOTE_CALL_REASON Days to Work Complete  \\\n",
       "0                         COMPLETE FOOT PEDAL WIRING                    28   \n",
       "1  -- REPAIR REAR BUMPER ASSEMBLY\\n-- TOW EYES BE...                     -   \n",
       "2       DOT INSPECTION DIELECTRIC TEST PM INSPECTION                     5   \n",
       "3                             - GLOBAL RENTAL RETURN                     -   \n",
       "4  - RH PLATFORM OUT OF ADJUSTMENT\\n - HYDRAULIC ...                     2   \n",
       "\n",
       "                      SR_NOTE_CAUSE  \\\n",
       "0  067-0001854 PER CUSTOMER REQUEST   \n",
       "1                                 -   \n",
       "2                        ANNUAL DUE   \n",
       "3                          - JR 672   \n",
       "4                       - UNKNOWN\\n   \n",
       "\n",
       "                                  SR_NOTE_CORRECTION CUST_ACCOUNT_ID  \n",
       "0                                                  1          183949  \n",
       "1  -- CUT OFF AND REPLACED DAMAGED AREA OF REAR B...           15941  \n",
       "2  --CSNS HAVENT BEEN DONE\\nDO DOT INSPECTION.\\nD...           15204  \n",
       "3  - 672\\n   8-Feb-11\\n\\n   DM47TR\\n   160-118386...           15941  \n",
       "4  - ADJUST RH & LH PLATFORMS\\n - REMOVE AND REPL...           27292  \n",
       "\n",
       "[5 rows x 43 columns]"
      ]
     },
     "execution_count": 5,
     "metadata": {},
     "output_type": "execute_result"
    }
   ],
   "source": [
    "Data = pd.read_csv(\"Data.csv\", encoding = \"ISO-8859-1\")\n",
    "Data.head(5)"
   ]
  },
  {
   "cell_type": "markdown",
   "metadata": {},
   "source": [
    "###  Column names of the original data"
   ]
  },
  {
   "cell_type": "code",
   "execution_count": 6,
   "metadata": {},
   "outputs": [
    {
     "data": {
      "text/plain": [
       "Index(['SR Number', 'Incident Date', 'Reported Date', 'SEVERITY',\n",
       "       'Last Modified', 'SR Type', 'SR Status', 'Plant Number', 'SR Group',\n",
       "       'SR Owner', 'Customer Phone', 'Contact Name', 'Contact Email',\n",
       "       'Contact Phone', 'Ship To Address', 'Ship To Address.1', 'Ship To City',\n",
       "       'Ship To State', 'Ship To Zip', 'Bill To Address', 'Bill To Address.1',\n",
       "       'Bill To City', 'Bill To State', 'Bill To Zip', 'Instance', 'Owner ID',\n",
       "       'Instance Description', 'Model', 'Serial #',\n",
       "       'sum(ACTUAL_LABOR_HOURS)\\n', 'Unit Serial Number', 'Tag',\n",
       "       'In-Service Date', 'SR Summary', 'Comments', 'Actual Labor Hours',\n",
       "       'VALID_ALTEC_UNIT_SERIAL', 'Unit Age at Incident Date',\n",
       "       'SR_NOTE_CALL_REASON', 'Days to Work Complete', 'SR_NOTE_CAUSE',\n",
       "       'SR_NOTE_CORRECTION', 'CUST_ACCOUNT_ID'],\n",
       "      dtype='object')"
      ]
     },
     "execution_count": 6,
     "metadata": {},
     "output_type": "execute_result"
    }
   ],
   "source": [
    "Data.columns"
   ]
  },
  {
   "cell_type": "markdown",
   "metadata": {},
   "source": [
    "### Dimension of the original data (Shape)"
   ]
  },
  {
   "cell_type": "code",
   "execution_count": 7,
   "metadata": {},
   "outputs": [
    {
     "data": {
      "text/plain": [
       "(49010, 43)"
      ]
     },
     "execution_count": 7,
     "metadata": {},
     "output_type": "execute_result"
    }
   ],
   "source": [
    "Data.shape"
   ]
  },
  {
   "cell_type": "markdown",
   "metadata": {},
   "source": [
    "### Columns of Needed Data\n",
    "\n",
    "We throw away other columns of this dataset and just focus on \"review\" columns an dthe \"label\" column. "
   ]
  },
  {
   "cell_type": "code",
   "execution_count": 8,
   "metadata": {},
   "outputs": [],
   "source": [
    "selected =  Data.loc[:, [\"SR Summary\", \"Actual Labor Hours\",\"Days to Work Complete\"]] "
   ]
  },
  {
   "cell_type": "markdown",
   "metadata": {},
   "source": [
    "### Examples of reviews and the corresponding label \n",
    "\n",
    "Labels are given at the end of the reviews"
   ]
  },
  {
   "cell_type": "code",
   "execution_count": 9,
   "metadata": {},
   "outputs": [
    {
     "name": "stdout",
     "output_type": "stream",
     "text": [
      "['COMPLETE FOOT PEDAL WIRING' 28.37 '28']\n",
      "['inspection, dielectric. leak at digger(fitting in cab) ,remove extension shaft from winch,emg. stop not working at controls, boom cuts out(wait or play with outriggers works)'\n",
      " 39.83 '-']\n"
     ]
    }
   ],
   "source": [
    "for item in np.array(selected.head(2)):\n",
    "    print(item)"
   ]
  },
  {
   "cell_type": "markdown",
   "metadata": {},
   "source": [
    "### We use pd.loc to extract reviews as a list\n"
   ]
  },
  {
   "cell_type": "code",
   "execution_count": 10,
   "metadata": {},
   "outputs": [
    {
     "data": {
      "text/plain": [
       "'ANNUAL PM, DIELECTRIC AND DOT INSPECTION'"
      ]
     },
     "execution_count": 10,
     "metadata": {},
     "output_type": "execute_result"
    }
   ],
   "source": [
    "raw_Summary = selected.loc[:, [\"SR Summary\"]] ## Gives the list of all summary \n",
    "raw_Summary = raw_Summary[\"SR Summary\"]\n",
    "raw_Summary[2] ## The fifth summary in the dataset"
   ]
  },
  {
   "cell_type": "markdown",
   "metadata": {},
   "source": [
    "### Exctracting Non-Alphanumeric and other Weird Characters!\n"
   ]
  },
  {
   "cell_type": "code",
   "execution_count": 11,
   "metadata": {},
   "outputs": [
    {
     "name": "stdout",
     "output_type": "stream",
     "text": [
      "['/', '$', '#', ':', '!', \"'\", '\"', '&', '-', '[', ',', ')', '`', '=', '*', ';', '(', '%', '\\\\', '?', '@', '>']\n"
     ]
    }
   ],
   "source": [
    "weird_chars = []\n",
    "for char in raw_Summary:\n",
    "    weird_chars += re.findall(r\"[^a-zA-Z0-9\\s\\w\\.]\", char.lower())\n",
    "weird_char_list = list(set(weird_chars))\n",
    "print(weird_char_list)"
   ]
  },
  {
   "cell_type": "code",
   "execution_count": 12,
   "metadata": {},
   "outputs": [
    {
     "data": {
      "text/plain": [
       "'/$#:!\\'\"&-[,)`=*;(%\\\\?@>'"
      ]
     },
     "execution_count": 12,
     "metadata": {},
     "output_type": "execute_result"
    }
   ],
   "source": [
    "\"\".join(weird_char_list)"
   ]
  },
  {
   "cell_type": "markdown",
   "metadata": {},
   "source": [
    "### Lowercasing, removing punctuations, and weird characters\n"
   ]
  },
  {
   "cell_type": "code",
   "execution_count": 13,
   "metadata": {},
   "outputs": [
    {
     "data": {
      "text/plain": [
       "'annual pm dielectric and dot inspection'"
      ]
     },
     "execution_count": 13,
     "metadata": {},
     "output_type": "execute_result"
    }
   ],
   "source": [
    "Clean_Summary = [re.sub(r\"[Î¾î\\'\\\\\\%!\\$\\&\\'()\\*\\+,\\-\\.\\/:;<=>?@\\[\\]^_`{|}~]\", \"\", item).lower() for item in raw_Summary]\n",
    "Clean_Summary[2] ## This does not have anymore any weird char"
   ]
  },
  {
   "cell_type": "markdown",
   "metadata": {},
   "source": [
    "## Replacing the review columns by the processed & clean reviews"
   ]
  },
  {
   "cell_type": "code",
   "execution_count": 14,
   "metadata": {},
   "outputs": [
    {
     "data": {
      "text/html": [
       "<div>\n",
       "<style scoped>\n",
       "    .dataframe tbody tr th:only-of-type {\n",
       "        vertical-align: middle;\n",
       "    }\n",
       "\n",
       "    .dataframe tbody tr th {\n",
       "        vertical-align: top;\n",
       "    }\n",
       "\n",
       "    .dataframe thead th {\n",
       "        text-align: right;\n",
       "    }\n",
       "</style>\n",
       "<table border=\"1\" class=\"dataframe\">\n",
       "  <thead>\n",
       "    <tr style=\"text-align: right;\">\n",
       "      <th></th>\n",
       "      <th>SR Summary</th>\n",
       "      <th>Actual Labor Hours</th>\n",
       "      <th>Days to Work Complete</th>\n",
       "    </tr>\n",
       "  </thead>\n",
       "  <tbody>\n",
       "    <tr>\n",
       "      <th>10</th>\n",
       "      <td>service request</td>\n",
       "      <td>1.00</td>\n",
       "      <td>8</td>\n",
       "    </tr>\n",
       "    <tr>\n",
       "      <th>11</th>\n",
       "      <td>service request</td>\n",
       "      <td>12.50</td>\n",
       "      <td>-</td>\n",
       "    </tr>\n",
       "    <tr>\n",
       "      <th>12</th>\n",
       "      <td>service request</td>\n",
       "      <td>2.00</td>\n",
       "      <td>3</td>\n",
       "    </tr>\n",
       "    <tr>\n",
       "      <th>13</th>\n",
       "      <td>service request</td>\n",
       "      <td>5.53</td>\n",
       "      <td>56</td>\n",
       "    </tr>\n",
       "    <tr>\n",
       "      <th>14</th>\n",
       "      <td>check rear throttle  oil leak</td>\n",
       "      <td>19.99</td>\n",
       "      <td>5</td>\n",
       "    </tr>\n",
       "    <tr>\n",
       "      <th>15</th>\n",
       "      <td>service request</td>\n",
       "      <td>38.14</td>\n",
       "      <td>20</td>\n",
       "    </tr>\n",
       "    <tr>\n",
       "      <th>16</th>\n",
       "      <td>service request</td>\n",
       "      <td>1.00</td>\n",
       "      <td>39</td>\n",
       "    </tr>\n",
       "    <tr>\n",
       "      <th>17</th>\n",
       "      <td>service request</td>\n",
       "      <td>8.00</td>\n",
       "      <td>27</td>\n",
       "    </tr>\n",
       "    <tr>\n",
       "      <th>18</th>\n",
       "      <td>service request</td>\n",
       "      <td>3.75</td>\n",
       "      <td>17</td>\n",
       "    </tr>\n",
       "    <tr>\n",
       "      <th>19</th>\n",
       "      <td>annual inspection</td>\n",
       "      <td>32.89</td>\n",
       "      <td>-</td>\n",
       "    </tr>\n",
       "  </tbody>\n",
       "</table>\n",
       "</div>"
      ],
      "text/plain": [
       "                       SR Summary  Actual Labor Hours Days to Work Complete\n",
       "10                service request                1.00                     8\n",
       "11                service request               12.50                     -\n",
       "12                service request                2.00                     3\n",
       "13                service request                5.53                    56\n",
       "14  check rear throttle  oil leak               19.99                     5\n",
       "15                service request               38.14                    20\n",
       "16                service request                1.00                    39\n",
       "17                service request                8.00                    27\n",
       "18                service request                3.75                    17\n",
       "19              annual inspection               32.89                     -"
      ]
     },
     "execution_count": 14,
     "metadata": {},
     "output_type": "execute_result"
    }
   ],
   "source": [
    "selected[[\"SR Summary\"]] = pd.DataFrame(Clean_Summary)\n",
    "selected[10:20]"
   ]
  },
  {
   "cell_type": "markdown",
   "metadata": {},
   "source": [
    "###test1"
   ]
  },
  {
   "cell_type": "code",
   "execution_count": 37,
   "metadata": {},
   "outputs": [],
   "source": [
    "summary =  Data.loc[:, [\"SR Summary\"]]\n"
   ]
  },
  {
   "cell_type": "code",
   "execution_count": 38,
   "metadata": {},
   "outputs": [
    {
     "name": "stdout",
     "output_type": "stream",
     "text": [
      "['COMPLETE FOOT PEDAL WIRING']\n"
     ]
    }
   ],
   "source": [
    "for item in np.array(title.head(1)):\n",
    "    print(item)"
   ]
  },
  {
   "cell_type": "code",
   "execution_count": 39,
   "metadata": {},
   "outputs": [
    {
     "data": {
      "text/html": [
       "<div>\n",
       "<style scoped>\n",
       "    .dataframe tbody tr th:only-of-type {\n",
       "        vertical-align: middle;\n",
       "    }\n",
       "\n",
       "    .dataframe tbody tr th {\n",
       "        vertical-align: top;\n",
       "    }\n",
       "\n",
       "    .dataframe thead th {\n",
       "        text-align: right;\n",
       "    }\n",
       "</style>\n",
       "<table border=\"1\" class=\"dataframe\">\n",
       "  <thead>\n",
       "    <tr style=\"text-align: right;\">\n",
       "      <th></th>\n",
       "      <th>SR Summary</th>\n",
       "    </tr>\n",
       "  </thead>\n",
       "  <tbody>\n",
       "    <tr>\n",
       "      <th>0</th>\n",
       "      <td>COMPLETE FOOT PEDAL WIRING</td>\n",
       "    </tr>\n",
       "    <tr>\n",
       "      <th>1</th>\n",
       "      <td>inspection, dielectric. leak at digger(fitting...</td>\n",
       "    </tr>\n",
       "    <tr>\n",
       "      <th>2</th>\n",
       "      <td>ANNUAL PM, DIELECTRIC AND DOT INSPECTION</td>\n",
       "    </tr>\n",
       "    <tr>\n",
       "      <th>3</th>\n",
       "      <td>SERVICE REQUEST</td>\n",
       "    </tr>\n",
       "    <tr>\n",
       "      <th>4</th>\n",
       "      <td>SERVICE REQUEST</td>\n",
       "    </tr>\n",
       "    <tr>\n",
       "      <th>5</th>\n",
       "      <td>hose ripped at upper controls</td>\n",
       "    </tr>\n",
       "    <tr>\n",
       "      <th>6</th>\n",
       "      <td>CHANGE HYD OIL TO HVI 13 / CHANGE HYD FILTER /...</td>\n",
       "    </tr>\n",
       "    <tr>\n",
       "      <th>7</th>\n",
       "      <td>SERVICE REQUEST</td>\n",
       "    </tr>\n",
       "    <tr>\n",
       "      <th>8</th>\n",
       "      <td>CHANGEOUT WINCH OUT ROPE / HYD TANK SIGHT GLAS...</td>\n",
       "    </tr>\n",
       "    <tr>\n",
       "      <th>9</th>\n",
       "      <td>SERVICE REQUEST</td>\n",
       "    </tr>\n",
       "    <tr>\n",
       "      <th>10</th>\n",
       "      <td>SERVICE REQUEST</td>\n",
       "    </tr>\n",
       "    <tr>\n",
       "      <th>11</th>\n",
       "      <td>SERVICE REQUEST</td>\n",
       "    </tr>\n",
       "    <tr>\n",
       "      <th>12</th>\n",
       "      <td>SERVICE REQUEST</td>\n",
       "    </tr>\n",
       "    <tr>\n",
       "      <th>13</th>\n",
       "      <td>SERVICE REQUEST</td>\n",
       "    </tr>\n",
       "    <tr>\n",
       "      <th>14</th>\n",
       "      <td>CHECK REAR THROTTLE / OIL LEAK</td>\n",
       "    </tr>\n",
       "    <tr>\n",
       "      <th>15</th>\n",
       "      <td>SERVICE REQUEST</td>\n",
       "    </tr>\n",
       "    <tr>\n",
       "      <th>16</th>\n",
       "      <td>SERVICE REQUEST</td>\n",
       "    </tr>\n",
       "    <tr>\n",
       "      <th>17</th>\n",
       "      <td>SERVICE REQUEST</td>\n",
       "    </tr>\n",
       "    <tr>\n",
       "      <th>18</th>\n",
       "      <td>SERVICE REQUEST</td>\n",
       "    </tr>\n",
       "    <tr>\n",
       "      <th>19</th>\n",
       "      <td>Annual inspection</td>\n",
       "    </tr>\n",
       "    <tr>\n",
       "      <th>20</th>\n",
       "      <td>ANNUAL PM INSPECTION &amp; DIELECTRIC TEST</td>\n",
       "    </tr>\n",
       "    <tr>\n",
       "      <th>21</th>\n",
       "      <td>ROAD SERVICE REQUEST</td>\n",
       "    </tr>\n",
       "    <tr>\n",
       "      <th>22</th>\n",
       "      <td>ROAD SERVICE REQUEST</td>\n",
       "    </tr>\n",
       "    <tr>\n",
       "      <th>23</th>\n",
       "      <td>SERVICE REQUEST</td>\n",
       "    </tr>\n",
       "    <tr>\n",
       "      <th>24</th>\n",
       "      <td>S &amp; I UPPER BOOM WEAR</td>\n",
       "    </tr>\n",
       "    <tr>\n",
       "      <th>25</th>\n",
       "      <td>DIGGER SHIFT</td>\n",
       "    </tr>\n",
       "    <tr>\n",
       "      <th>26</th>\n",
       "      <td>REPAIR IMPACT</td>\n",
       "    </tr>\n",
       "    <tr>\n",
       "      <th>27</th>\n",
       "      <td>REPLACE THROTTLE</td>\n",
       "    </tr>\n",
       "    <tr>\n",
       "      <th>28</th>\n",
       "      <td>SEE LIST JR877</td>\n",
       "    </tr>\n",
       "    <tr>\n",
       "      <th>29</th>\n",
       "      <td>SEE LIST  JR876</td>\n",
       "    </tr>\n",
       "    <tr>\n",
       "      <th>...</th>\n",
       "      <td>...</td>\n",
       "    </tr>\n",
       "    <tr>\n",
       "      <th>48980</th>\n",
       "      <td>CSN'S VN 160-8908684</td>\n",
       "    </tr>\n",
       "    <tr>\n",
       "      <th>48981</th>\n",
       "      <td>RESEAL LOOSE DIGGER GEARBOX</td>\n",
       "    </tr>\n",
       "    <tr>\n",
       "      <th>48982</th>\n",
       "      <td>UCR</td>\n",
       "    </tr>\n",
       "    <tr>\n",
       "      <th>48983</th>\n",
       "      <td>ENTERGY LEASE RETURN</td>\n",
       "    </tr>\n",
       "    <tr>\n",
       "      <th>48984</th>\n",
       "      <td>SERVICE REQUEST</td>\n",
       "    </tr>\n",
       "    <tr>\n",
       "      <th>48985</th>\n",
       "      <td>PM INSPECTION &amp; DIELECTRIC TEST</td>\n",
       "    </tr>\n",
       "    <tr>\n",
       "      <th>48986</th>\n",
       "      <td>upper and lower selector rod broken</td>\n",
       "    </tr>\n",
       "    <tr>\n",
       "      <th>48987</th>\n",
       "      <td>Part of a kit for the radio remote that was no...</td>\n",
       "    </tr>\n",
       "    <tr>\n",
       "      <th>48988</th>\n",
       "      <td>UPFIT VN 037-18309317</td>\n",
       "    </tr>\n",
       "    <tr>\n",
       "      <th>48989</th>\n",
       "      <td>RADIO CONTROLS INTERMITTENT</td>\n",
       "    </tr>\n",
       "    <tr>\n",
       "      <th>48990</th>\n",
       "      <td>DD119   HYD LEAK</td>\n",
       "    </tr>\n",
       "    <tr>\n",
       "      <th>48991</th>\n",
       "      <td>CHECK CSN 538, 539</td>\n",
       "    </tr>\n",
       "    <tr>\n",
       "      <th>48992</th>\n",
       "      <td>CONTROLS ARE INTERMITTANT</td>\n",
       "    </tr>\n",
       "    <tr>\n",
       "      <th>48993</th>\n",
       "      <td>UNIT CONDITION REPORT VN 037-4948692</td>\n",
       "    </tr>\n",
       "    <tr>\n",
       "      <th>48994</th>\n",
       "      <td>INSPECT FOR DAMAGE</td>\n",
       "    </tr>\n",
       "    <tr>\n",
       "      <th>48995</th>\n",
       "      <td>UCR</td>\n",
       "    </tr>\n",
       "    <tr>\n",
       "      <th>48996</th>\n",
       "      <td>UCR</td>\n",
       "    </tr>\n",
       "    <tr>\n",
       "      <th>48997</th>\n",
       "      <td>UCR</td>\n",
       "    </tr>\n",
       "    <tr>\n",
       "      <th>48998</th>\n",
       "      <td>SHEAR PLATE BOLTS BROKEN</td>\n",
       "    </tr>\n",
       "    <tr>\n",
       "      <th>48999</th>\n",
       "      <td>UCR</td>\n",
       "    </tr>\n",
       "    <tr>\n",
       "      <th>49000</th>\n",
       "      <td>UCR</td>\n",
       "    </tr>\n",
       "    <tr>\n",
       "      <th>49001</th>\n",
       "      <td>PM INSPECTION</td>\n",
       "    </tr>\n",
       "    <tr>\n",
       "      <th>49002</th>\n",
       "      <td>DIAGNOSE &amp; REPAIR LEAK AT REAR OUTRIGGER</td>\n",
       "    </tr>\n",
       "    <tr>\n",
       "      <th>49003</th>\n",
       "      <td>UCR</td>\n",
       "    </tr>\n",
       "    <tr>\n",
       "      <th>49004</th>\n",
       "      <td>INSERVICE ISSUES</td>\n",
       "    </tr>\n",
       "    <tr>\n",
       "      <th>49005</th>\n",
       "      <td>OSHA PM</td>\n",
       "    </tr>\n",
       "    <tr>\n",
       "      <th>49006</th>\n",
       "      <td>4740: PM INSPECTION, DIELECTRIC TEST, DOT</td>\n",
       "    </tr>\n",
       "    <tr>\n",
       "      <th>49007</th>\n",
       "      <td>12: PM INSPECTION AND DIELECTRIC TEST</td>\n",
       "    </tr>\n",
       "    <tr>\n",
       "      <th>49008</th>\n",
       "      <td>7540: PM INSPECTION AND DIELECTRIC TEST</td>\n",
       "    </tr>\n",
       "    <tr>\n",
       "      <th>49009</th>\n",
       "      <td>NH335 ,NEW UNIT MODIFICATIONS</td>\n",
       "    </tr>\n",
       "  </tbody>\n",
       "</table>\n",
       "<p>49010 rows × 1 columns</p>\n",
       "</div>"
      ],
      "text/plain": [
       "                                              SR Summary\n",
       "0                             COMPLETE FOOT PEDAL WIRING\n",
       "1      inspection, dielectric. leak at digger(fitting...\n",
       "2               ANNUAL PM, DIELECTRIC AND DOT INSPECTION\n",
       "3                                        SERVICE REQUEST\n",
       "4                                        SERVICE REQUEST\n",
       "5                          hose ripped at upper controls\n",
       "6      CHANGE HYD OIL TO HVI 13 / CHANGE HYD FILTER /...\n",
       "7                                        SERVICE REQUEST\n",
       "8      CHANGEOUT WINCH OUT ROPE / HYD TANK SIGHT GLAS...\n",
       "9                                        SERVICE REQUEST\n",
       "10                                       SERVICE REQUEST\n",
       "11                                       SERVICE REQUEST\n",
       "12                                       SERVICE REQUEST\n",
       "13                                       SERVICE REQUEST\n",
       "14                        CHECK REAR THROTTLE / OIL LEAK\n",
       "15                                       SERVICE REQUEST\n",
       "16                                       SERVICE REQUEST\n",
       "17                                       SERVICE REQUEST\n",
       "18                                       SERVICE REQUEST\n",
       "19                                     Annual inspection\n",
       "20                ANNUAL PM INSPECTION & DIELECTRIC TEST\n",
       "21                                  ROAD SERVICE REQUEST\n",
       "22                                  ROAD SERVICE REQUEST\n",
       "23                                       SERVICE REQUEST\n",
       "24                                 S & I UPPER BOOM WEAR\n",
       "25                                          DIGGER SHIFT\n",
       "26                                         REPAIR IMPACT\n",
       "27                                      REPLACE THROTTLE\n",
       "28                                        SEE LIST JR877\n",
       "29                                       SEE LIST  JR876\n",
       "...                                                  ...\n",
       "48980                               CSN'S VN 160-8908684\n",
       "48981                        RESEAL LOOSE DIGGER GEARBOX\n",
       "48982                                                UCR\n",
       "48983                               ENTERGY LEASE RETURN\n",
       "48984                                    SERVICE REQUEST\n",
       "48985                    PM INSPECTION & DIELECTRIC TEST\n",
       "48986                upper and lower selector rod broken\n",
       "48987  Part of a kit for the radio remote that was no...\n",
       "48988                              UPFIT VN 037-18309317\n",
       "48989                        RADIO CONTROLS INTERMITTENT\n",
       "48990                                   DD119   HYD LEAK\n",
       "48991                                 CHECK CSN 538, 539\n",
       "48992                          CONTROLS ARE INTERMITTANT\n",
       "48993               UNIT CONDITION REPORT VN 037-4948692\n",
       "48994                                 INSPECT FOR DAMAGE\n",
       "48995                                                UCR\n",
       "48996                                                UCR\n",
       "48997                                                UCR\n",
       "48998                           SHEAR PLATE BOLTS BROKEN\n",
       "48999                                                UCR\n",
       "49000                                                UCR\n",
       "49001                                      PM INSPECTION\n",
       "49002           DIAGNOSE & REPAIR LEAK AT REAR OUTRIGGER\n",
       "49003                                                UCR\n",
       "49004                                   INSERVICE ISSUES\n",
       "49005                                            OSHA PM\n",
       "49006          4740: PM INSPECTION, DIELECTRIC TEST, DOT\n",
       "49007              12: PM INSPECTION AND DIELECTRIC TEST\n",
       "49008            7540: PM INSPECTION AND DIELECTRIC TEST\n",
       "49009                      NH335 ,NEW UNIT MODIFICATIONS\n",
       "\n",
       "[49010 rows x 1 columns]"
      ]
     },
     "execution_count": 39,
     "metadata": {},
     "output_type": "execute_result"
    }
   ],
   "source": [
    "summary"
   ]
  },
  {
   "cell_type": "code",
   "execution_count": 40,
   "metadata": {},
   "outputs": [
    {
     "name": "stdout",
     "output_type": "stream",
     "text": [
      "The number of original title is  1\n"
     ]
    }
   ],
   "source": [
    "labels = list(set(summary)) # Original labels\n",
    "print(\"The number of original title is \", len(labels))"
   ]
  },
  {
   "cell_type": "code",
   "execution_count": 41,
   "metadata": {},
   "outputs": [
    {
     "data": {
      "text/plain": [
       "['SR Summary']"
      ]
     },
     "execution_count": 41,
     "metadata": {},
     "output_type": "execute_result"
    }
   ],
   "source": [
    "labels\n"
   ]
  },
  {
   "cell_type": "code",
   "execution_count": null,
   "metadata": {},
   "outputs": [],
   "source": []
  },
  {
   "cell_type": "markdown",
   "metadata": {},
   "source": [
    "## Distribution of the Original (multi-) labels"
   ]
  },
  {
   "cell_type": "code",
   "execution_count": 29,
   "metadata": {},
   "outputs": [
    {
     "data": {
      "text/plain": [
       "[('SR Summary', 1)]"
      ]
     },
     "execution_count": 29,
     "metadata": {},
     "output_type": "execute_result"
    }
   ],
   "source": [
    "dict_of_distrb = nltk.FreqDist(title)\n",
    "sorted_raw_label_req = dict_of_distrb.most_common()\n",
    "#sorted_raw_label_req = sorted(dict_of_distrb.items(), key = lambda x: x[1], reverse = True)\n",
    "sorted_raw_label_req"
   ]
  },
  {
   "cell_type": "code",
   "execution_count": null,
   "metadata": {},
   "outputs": [],
   "source": []
  }
 ],
 "metadata": {
  "kernelspec": {
   "display_name": "Python 3",
   "language": "python",
   "name": "python3"
  },
  "language_info": {
   "codemirror_mode": {
    "name": "ipython",
    "version": 3
   },
   "file_extension": ".py",
   "mimetype": "text/x-python",
   "name": "python",
   "nbconvert_exporter": "python",
   "pygments_lexer": "ipython3",
   "version": "3.6.4"
  }
 },
 "nbformat": 4,
 "nbformat_minor": 2
}
